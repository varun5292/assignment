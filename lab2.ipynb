{
 "cells": [
  {
   "cell_type": "markdown",
   "metadata": {},
   "source": [
    "Mekala Varun\n",
    "AIE22037\n",
    "Lab 2"
   ]
  },
  {
   "cell_type": "markdown",
   "metadata": {},
   "source": [
    "Q1) Write a function to calculate the Euclidean distance and Manhattan distance between two vectors. The vectors dimension is variable. Please don’t use any distance calculation functions available in Python."
   ]
  },
  {
   "cell_type": "code",
   "execution_count": 11,
   "metadata": {},
   "outputs": [
    {
     "name": "stdout",
     "output_type": "stream",
     "text": [
      "Vector 1: [1, 2]\n",
      "Vector 2: [1, 5]\n",
      "Euclidean Distance: 3.0\n",
      "Manhattan Distance: 3\n"
     ]
    }
   ],
   "source": [
    "def euclidean_distance(vector1, vector2):\n",
    "    if len(vector1) != len(vector2):\n",
    "        raise ValueError(\"Vectors must have the same dimensionality\")\n",
    "\n",
    "    squared_distance = 0\n",
    "    for i in range(len(vector1)):\n",
    "        squared_distance += (vector1[i] - vector2[i]) ** 2\n",
    "    return squared_distance ** 0.5\n",
    "\n",
    "def manhattan_distance(vector1, vector2):\n",
    "    if len(vector1) != len(vector2):\n",
    "        raise ValueError(\"Vectors must have the same dimensionality\")\n",
    "\n",
    "    distance = 0\n",
    "    for i in range(len(vector1)):\n",
    "        distance += abs(vector1[i] - vector2[i])\n",
    "    return distance\n",
    "\n",
    "if __name__ == \"__main__\":\n",
    "    vector1_str = input(\"Enter vector 1 (comma-separated values): \")\n",
    "    vector2_str = input(\"Enter vector 2 (comma-separated values): \")\n",
    "\n",
    "    vector1 = [int(x) for x in vector1_str.split(',')]\n",
    "    vector2 = [int(x) for x in vector2_str.split(',')]\n",
    "\n",
    "    print(\"Vector 1:\", vector1)\n",
    "    print(\"Vector 2:\", vector2)\n",
    "\n",
    "    euclidean_dist = euclidean_distance(vector1, vector2)\n",
    "    manhattan_dist = manhattan_distance(vector1, vector2)\n",
    "\n",
    "    print(\"Euclidean Distance:\", euclidean_dist)\n",
    "    print(\"Manhattan Distance:\", manhattan_dist)\n"
   ]
  },
  {
   "cell_type": "markdown",
   "metadata": {},
   "source": [
    "Q2) Write a function to implement k-NN classifier. k is a variable and based on that the count of neighbors should be selected."
   ]
  },
  {
   "cell_type": "code",
   "execution_count": null,
   "metadata": {},
   "outputs": [
    {
     "name": "stdout",
     "output_type": "stream",
     "text": [
      "The predicted label for the test instance is: A\n"
     ]
    }
   ],
   "source": [
    "from collections import Counter\n",
    "\n",
    "def euclidean_distance(vector1, vector2):\n",
    "    return sum((v1 - v2) * 2 for v1, v2 in zip(vector1, vector2)) * 0.5\n",
    "\n",
    "def k_nearest_neighbors(training_data, test_instance, k=3):\n",
    "    distances = [(euclidean_distance(test_instance, training_instance[0]), training_instance[1]) for training_instance in training_data]\n",
    "    sorted_distances = sorted(distances, key=lambda x: x[0])\n",
    "    k_nearest_labels = [label for _, label in sorted_distances[:k]]\n",
    "    most_common_label = Counter(k_nearest_labels).most_common(1)[0][0]\n",
    "    return most_common_label\n",
    "\n",
    "\n",
    "training_data = []\n",
    "num_train_instances = int(input(\"Enter the number of training instances: \"))\n",
    "\n",
    "for _ in range(num_train_instances):\n",
    "    features = [float(x) for x in input(\"Enter features (comma-separated values): \").split(',')]\n",
    "    label = input(\"Enter the label for this instance: \")\n",
    "    training_data.append((features, label))\n",
    "\n",
    "test_instance = [float(x) for x in input(\"Enter test instance features (comma-separated values): \").split(',')]\n",
    "\n",
    "k_value = int(input(\"Enter the value of k: \"))\n",
    "\n",
    "predicted_label = k_nearest_neighbors(training_data, test_instance, k=k_value)\n",
    "\n",
    "print(f\"The predicted label for the test instance is: {predicted_label}\")"
   ]
  },
  {
   "cell_type": "markdown",
   "metadata": {},
   "source": [
    "Q3) Write a function to convert categorical variables to numeric using label encoding. Don’t use any existing functionalities."
   ]
  },
  {
   "cell_type": "code",
   "execution_count": null,
   "metadata": {},
   "outputs": [
    {
     "name": "stdout",
     "output_type": "stream",
     "text": [
      "Original Categorical Data: ['varun', 'monesh', 'harish']\n",
      "Label Encoded Mapping: {'varun': 0, 'monesh': 1, 'harish': 2}\n"
     ]
    }
   ],
   "source": [
    "def label_encoding(categories):\n",
    "    encoded_mapping = {}\n",
    "    for index, category in enumerate(categories):\n",
    "        encoded_mapping[category] = index\n",
    "    return encoded_mapping\n",
    "\n",
    "if __name__ == \"__main__\":\n",
    "    categorical_data_str = input(\"Enter categorical data (comma-separated values): \")\n",
    "    categorical_data = categorical_data_str.split(',')\n",
    "\n",
    "    label_encoded_mapping = label_encoding(categorical_data)\n",
    "\n",
    "    print(\"Original Categorical Data:\", categorical_data)\n",
    "    print(\"Label Encoded Mapping:\", label_encoded_mapping)\n"
   ]
  },
  {
   "cell_type": "markdown",
   "metadata": {},
   "source": [
    "Q4) Write a function to convert categorical variables to numeric using One-Hotencoding. Don’t use any existing functionalities."
   ]
  },
  {
   "cell_type": "code",
   "execution_count": null,
   "metadata": {},
   "outputs": [
    {
     "name": "stdout",
     "output_type": "stream",
     "text": [
      "Original Categorical Data: ['varun', 'monesh', 'harish']\n",
      "One-Hot Encoded Matrix:\n",
      "[0, 1, 0]\n",
      "[0, 0, 1]\n",
      "[1, 0, 0]\n"
     ]
    }
   ],
   "source": [
    "def get_unique_labels(data):\n",
    "    return list(set(data))\n",
    "\n",
    "def one_hot_encoding(data, unique_labels):\n",
    "    one_hot_matrix = []\n",
    "    for value in data:\n",
    "        one_hot_vector = []\n",
    "        for label in unique_labels:\n",
    "            if value == label:\n",
    "                one_hot_vector.append(1)\n",
    "            else:\n",
    "                one_hot_vector.append(0)\n",
    "        one_hot_matrix.append(one_hot_vector)\n",
    "    return one_hot_matrix\n",
    "\n",
    "def categorical_to_numeric_one_hot(data):\n",
    "    unique_labels = get_unique_labels(data)\n",
    "    one_hot_matrix = one_hot_encoding(data, unique_labels)\n",
    "    return one_hot_matrix\n",
    "\n",
    "categorical_data = input(\"Enter categorical data (comma-separated values): \").split(',')\n",
    "\n",
    "one_hot_matrix = categorical_to_numeric_one_hot(categorical_data)\n",
    "\n",
    "print(f\"Original Categorical Data: {categorical_data}\")\n",
    "print(f\"One-Hot Encoded Matrix:\")\n",
    "for row in one_hot_matrix:\n",
    "    print(row)\n"
   ]
  }
 ],
 "metadata": {
  "kernelspec": {
   "display_name": "Python 3",
   "language": "python",
   "name": "python3"
  },
  "language_info": {
   "codemirror_mode": {
    "name": "ipython",
    "version": 3
   },
   "file_extension": ".py",
   "mimetype": "text/x-python",
   "name": "python",
   "nbconvert_exporter": "python",
   "pygments_lexer": "ipython3",
   "version": "3.11.4"
  }
 },
 "nbformat": 4,
 "nbformat_minor": 2
}
